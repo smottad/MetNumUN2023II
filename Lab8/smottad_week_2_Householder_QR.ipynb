{
  "cells": [
    {
      "cell_type": "code",
      "execution_count": 9,
      "metadata": {
        "id": "OLUKMp6bzVEJ"
      },
      "outputs": [],
      "source": [
        "import numpy as np\n",
        "\n",
        "from numpy.testing import assert_allclose"
      ]
    },
    {
      "cell_type": "markdown",
      "metadata": {
        "id": "Uz3t7DtP0gLx"
      },
      "source": [
        "# Part I. Construct a Householder reflection of a vector."
      ]
    },
    {
      "cell_type": "markdown",
      "metadata": {
        "id": "K0JvLCTy0kOI"
      },
      "source": [
        "Given a vector $\\mathbf{x}$, and a plane with a normal vector $\\mathbf{u}$, the Householder transformation reflects $\\mathbf{x}$ about the plane.\n",
        "\n",
        "The matrix of the Householder transformation is\n",
        "\n",
        "$$\n",
        "\\mathbf{H} = \\mathbf{I} - 2 \\mathbf{u} \\mathbf{u}^T\n",
        "$$\n",
        "\n",
        "Given two equal-length vectors $\\mathbf{x}$ and $\\mathbf{y}$, a rotation which brings $\\mathbf{x}$ to $\\mathbf{y}$ is a Householder transform with\n",
        "\n",
        "$$\n",
        "\\mathbf{u} = \\frac{\\mathbf{x} - \\mathbf{y}}{\\left|\\mathbf{x} - \\mathbf{y}\\right|}\n",
        "$$"
      ]
    },
    {
      "cell_type": "markdown",
      "metadata": {
        "id": "0SvLbsbc0oqh"
      },
      "source": [
        "Write a function which rotates a given vector, $\\mathbf{x} = (x_1, \\dots, x_n)$ into $\\mathbf{y} = (\\left|\\mathbf{x}\\right|, 0, \\dots, 0)^T$ using a Householder transformation."
      ]
    },
    {
      "cell_type": "code",
      "execution_count": 4,
      "metadata": {},
      "outputs": [
        {
          "name": "stdout",
          "output_type": "stream",
          "text": [
            "*****\n",
            "[[ 2.27864577e-01  4.74406510e-01  1.75992186e-01  5.30089913e-01\n",
            "   4.09203581e-04  2.17295438e-01  3.92646324e-01 -3.99031542e-01\n",
            "   4.05577228e-02 -2.20879881e-01]\n",
            " [ 2.62929638e-01  4.07904155e-01  2.72444661e-01 -5.80163229e-01\n",
            "   1.25241215e-01 -3.90029413e-01 -1.22041936e-01 -1.33151137e-01\n",
            "  -1.77725462e-02 -3.91048735e-01]\n",
            " [-1.65035111e-01  2.46319163e-01 -5.54892768e-01  2.56950649e-01\n",
            "   4.93638152e-01 -2.74393778e-01 -1.69495111e-02  3.13298635e-01\n",
            "   1.76267333e-01 -2.99460511e-01]\n",
            " [ 3.51831228e-01 -2.09212456e-01 -1.17089946e-01  2.99037967e-01\n",
            "  -8.23727692e-02 -1.12824966e-01 -3.05436759e-01  2.96553027e-02\n",
            "  -7.23908185e-01 -3.02625703e-01]\n",
            " [ 3.23534405e-01  5.00323557e-01 -3.13822383e-01 -1.11222457e-01\n",
            "  -3.12446118e-01  4.32301995e-01 -3.67985026e-01  2.80456857e-01\n",
            "   8.12362541e-02  1.70208566e-01]\n",
            " [ 4.47386299e-01  2.53105633e-02  4.17079408e-01  1.85050411e-01\n",
            "   4.13862598e-01 -1.35819708e-01  5.45634249e-02  4.52453466e-01\n",
            "   4.76968890e-03  4.39957598e-01]\n",
            " [ 1.70725451e-01 -2.54971886e-01 -6.33153599e-02 -2.94389759e-01\n",
            "   5.58959207e-01  6.59451396e-01  7.23798232e-02 -7.04186166e-02\n",
            "  -5.69979127e-02 -2.33259666e-01]\n",
            " [ 4.57447161e-01 -4.09445749e-01 -3.18730568e-02  6.23705358e-02\n",
            "  -3.15707675e-01 -7.16002423e-02  1.31546490e-01  2.10219468e-01\n",
            "   5.39451320e-01 -4.01108385e-01]\n",
            " [ 2.75173271e-01  1.30698613e-02 -4.62102560e-01 -2.90793067e-01\n",
            "  -9.64256114e-02 -1.68137093e-01  6.73229246e-01 -1.30692517e-02\n",
            "  -2.67953213e-01  2.51463991e-01]\n",
            " [ 3.30105306e-01 -1.42541540e-01 -2.86672975e-01  7.23730545e-02\n",
            "   2.08665080e-01 -1.97568984e-01 -3.50976706e-01 -6.25553461e-01\n",
            "   2.65044303e-01  3.40541129e-01]]\n",
            "[[-0.22786458 -0.47440651 -0.23621684  0.5326313   0.19208418 -0.10144558\n",
            "  -0.3212858   0.31520169]\n",
            " [-0.26292964 -0.40790415  0.2253574  -0.57987292  0.16723206  0.40180441\n",
            "  -0.17670166  0.08685977]\n",
            " [-0.33924725 -0.12393763 -0.48872429  0.08274272  0.08239947  0.20201498\n",
            "  -0.1438983  -0.65152308]\n",
            " [-0.36256913  0.21181838  0.07570706  0.29414852 -0.62493815  0.08978331\n",
            "   0.04344425  0.00930582]\n",
            " [-0.06764817 -0.16448771  0.47910511  0.04922562 -0.25190932 -0.25082016\n",
            "  -0.58313534  0.00467986]\n",
            " [-0.31722345 -0.38164026  0.46758924  0.16664326  0.0413429  -0.15370986\n",
            "   0.59220606 -0.30044522]\n",
            " [-0.38355511  0.19262602 -0.09265269 -0.33590083 -0.33363938 -0.0413483\n",
            "  -0.17941682 -0.0866815 ]\n",
            " [-0.35779436  0.55575878  0.28998449  0.10875036  0.59785019 -0.15584451\n",
            "  -0.19618925 -0.11331805]\n",
            " [-0.25265013 -0.09169867 -0.31815384 -0.35983884  0.00806818 -0.74754676\n",
            "   0.14722685  0.16980416]\n",
            " [-0.43385512  0.14573388 -0.08218182  0.04846073  0.06186293  0.32867932\n",
            "   0.24463571  0.5736349 ]]\n",
            "-----\n",
            "[[ 2.10760362e+00  1.64285162e+00  1.13849871e+00  1.73629646e+00\n",
            "   1.37263153e+00  1.44832163e+00  1.47743218e+00  1.25239643e+00]\n",
            " [-5.38557955e-16  1.00564891e+00  7.49996677e-02  1.22501338e-01\n",
            "   9.43811012e-01  3.62114231e-01  3.83471048e-01 -8.97154585e-04]\n",
            " [ 3.16399941e-16  5.68793664e-17  7.90571501e-01  3.12985698e-01\n",
            "   1.92691123e-01  4.46698631e-01  5.61472853e-02 -1.11241890e-02]\n",
            " [-5.65626871e-16 -9.90000179e-17 -1.00808192e-17  7.65812745e-01\n",
            "   2.74806438e-01 -2.77247860e-01  2.81879678e-01 -3.27347500e-01]\n",
            " [-1.97163462e-16  8.65000530e-17 -1.33127865e-17 -7.45253943e-17\n",
            "   4.52460108e-01  4.16812737e-02 -3.30553758e-01  2.56533602e-02]\n",
            " [-6.45149936e-17 -1.14275286e-16  2.86303234e-17 -3.38104756e-17\n",
            "   1.74731365e-17  7.54420866e-01  2.26307159e-01  3.89382238e-01]\n",
            " [-2.69911256e-16  8.96741164e-17 -1.24743725e-17  1.36794463e-17\n",
            "   6.04247668e-17  7.10386180e-17  8.63710762e-01  3.89610045e-01]\n",
            " [ 2.21093366e-16 -4.43464022e-17 -6.01278648e-17 -2.78294031e-17\n",
            "  -5.67251557e-18 -1.04642583e-17 -4.34231359e-17  4.58549781e-01]\n",
            " [-7.10325036e-17 -9.41461258e-17  1.68457859e-17 -4.03140606e-17\n",
            "   8.85159912e-19  6.31816735e-18  2.98292230e-16 -1.50825816e-17]\n",
            " [ 2.67975384e-16 -8.56017182e-17 -6.74306566e-18 -2.21539084e-17\n",
            "   3.36459574e-17  2.05291621e-17 -1.60851839e-16 -7.40465782e-17]]\n",
            "[[-2.10760362e+00 -1.64285162e+00 -1.13849871e+00 -1.73629646e+00\n",
            "  -1.37263153e+00 -1.44832163e+00 -1.47743218e+00 -1.25239643e+00]\n",
            " [ 0.00000000e+00 -1.00564891e+00 -7.49996677e-02 -1.22501338e-01\n",
            "  -9.43811012e-01 -3.62114231e-01 -3.83471048e-01  8.97154585e-04]\n",
            " [ 0.00000000e+00  0.00000000e+00  7.90571501e-01  3.12985698e-01\n",
            "   1.92691123e-01  4.46698631e-01  5.61472853e-02 -1.11241890e-02]\n",
            " [ 0.00000000e+00  0.00000000e+00  0.00000000e+00  7.65812745e-01\n",
            "   2.74806438e-01 -2.77247860e-01  2.81879678e-01 -3.27347500e-01]\n",
            " [ 0.00000000e+00  0.00000000e+00  0.00000000e+00  0.00000000e+00\n",
            "   4.52460108e-01  4.16812737e-02 -3.30553758e-01  2.56533602e-02]\n",
            " [ 0.00000000e+00  0.00000000e+00  0.00000000e+00  0.00000000e+00\n",
            "   0.00000000e+00 -7.54420866e-01 -2.26307159e-01 -3.89382238e-01]\n",
            " [ 0.00000000e+00  0.00000000e+00  0.00000000e+00  0.00000000e+00\n",
            "   0.00000000e+00  0.00000000e+00 -8.63710762e-01 -3.89610045e-01]\n",
            " [ 0.00000000e+00  0.00000000e+00  0.00000000e+00  0.00000000e+00\n",
            "   0.00000000e+00  0.00000000e+00  0.00000000e+00 -4.58549781e-01]]\n"
          ]
        }
      ],
      "source": [
        "import numpy as np\n",
        "\n",
        "def householder(vec):\n",
        "    \"\"\"Construct a Householder reflection to zero out 2nd and further components of a vector.\n",
        "\n",
        "    Parameters\n",
        "    ----------\n",
        "    vec : array-like of floats, shape (n,)\n",
        "        Input vector\n",
        "    \n",
        "    Returns\n",
        "    -------\n",
        "    outvec : array of floats, shape (n,)\n",
        "        Transformed vector, with ``outvec[1:]==0`` and ``|outvec| == |vec|``\n",
        "    H : array of floats, shape (n, n)\n",
        "        Orthogonal matrix of the Householder reflection\n",
        "    \"\"\"\n",
        "import numpy as np\n",
        "from typing import Union\n",
        "\n",
        "def householder_transform(x: np.ndarray) -> Union[np.ndarray, int]:\n",
        "    alpha = x[0]\n",
        "    s = np.power(np.linalg.norm(x[1:]), 2)\n",
        "    w = x.copy()\n",
        "\n",
        "    if s == 0:\n",
        "        tau = 0\n",
        "    else:\n",
        "        t = np.sqrt(pow(alpha, 2) + s)\n",
        "        w[0] = alpha - t if alpha <= 0 else -s / (alpha + t)\n",
        "\n",
        "        tau = 2 * pow(w[0], 2) / (s + pow(w[0], 2))\n",
        "        w /= w[0]\n",
        "\n",
        "    return w, tau\n",
        "\n",
        "def qr_decomposition(matrix: np.ndarray) -> Union[np.ndarray, np.ndarray]:\n",
        "    rows, cols = matrix.shape\n",
        "    R = matrix.copy()\n",
        "    Q = np.identity(rows)\n",
        "\n",
        "    for j in range(cols):\n",
        "        v, tau = householder_transform(R[j:, j])\n",
        "        H = np.identity(rows)\n",
        "        H[j:, j:] -= tau * np.outer(v, v)  # Outer product!\n",
        "        R = H @ R\n",
        "        Q = H @ Q.T  # Transpose!\n",
        "\n",
        "    return Q.T, R\n",
        "\n",
        "m = 10\n",
        "n = 8\n",
        "\n",
        "A = np.random.rand(m, n)\n",
        "q, r = np.linalg.qr(A)\n",
        "Q, R = qr_decomposition(A)\n",
        "\n",
        "print(\"*****\")\n",
        "print(Q)\n",
        "print(q)\n",
        "print(\"-----\")\n",
        "print(R)\n",
        "print(r)\n",
        "\n"
      ]
    },
    {
      "cell_type": "markdown",
      "metadata": {
        "id": "otdj2PA8bGwx"
      },
      "source": [
        "Test your function using tests below:"
      ]
    },
    {
      "cell_type": "code",
      "execution_count": 5,
      "metadata": {
        "id": "D6TICN9QbKQH"
      },
      "outputs": [
        {
          "ename": "TypeError",
          "evalue": "cannot unpack non-iterable NoneType object",
          "output_type": "error",
          "traceback": [
            "\u001b[1;31m---------------------------------------------------------------------------\u001b[0m",
            "\u001b[1;31mTypeError\u001b[0m                                 Traceback (most recent call last)",
            "\u001b[1;32mc:\\Users\\admin\\MetNum\\MetNumUN2023II\\Lab8\\smottad_week_2_Householder_QR.ipynb Cell 7\u001b[0m line \u001b[0;36m3\n\u001b[0;32m      <a href='vscode-notebook-cell:/c%3A/Users/admin/MetNum/MetNumUN2023II/Lab8/smottad_week_2_Householder_QR.ipynb#W6sZmlsZQ%3D%3D?line=0'>1</a>\u001b[0m \u001b[39m# Test I.1\u001b[39;00m\n\u001b[0;32m      <a href='vscode-notebook-cell:/c%3A/Users/admin/MetNum/MetNumUN2023II/Lab8/smottad_week_2_Householder_QR.ipynb#W6sZmlsZQ%3D%3D?line=1'>2</a>\u001b[0m v \u001b[39m=\u001b[39m np\u001b[39m.\u001b[39marray([\u001b[39m1\u001b[39m, \u001b[39m2\u001b[39m, \u001b[39m3\u001b[39m])\n\u001b[1;32m----> <a href='vscode-notebook-cell:/c%3A/Users/admin/MetNum/MetNumUN2023II/Lab8/smottad_week_2_Householder_QR.ipynb#W6sZmlsZQ%3D%3D?line=2'>3</a>\u001b[0m v1, h \u001b[39m=\u001b[39m householder(v)\n\u001b[0;32m      <a href='vscode-notebook-cell:/c%3A/Users/admin/MetNum/MetNumUN2023II/Lab8/smottad_week_2_Householder_QR.ipynb#W6sZmlsZQ%3D%3D?line=4'>5</a>\u001b[0m assert_allclose(np\u001b[39m.\u001b[39mdot(h, v1), \u001b[39m-\u001b[39mv)  \u001b[39m# Check for sign difference\u001b[39;00m\n\u001b[0;32m      <a href='vscode-notebook-cell:/c%3A/Users/admin/MetNum/MetNumUN2023II/Lab8/smottad_week_2_Householder_QR.ipynb#W6sZmlsZQ%3D%3D?line=5'>6</a>\u001b[0m assert_allclose(np\u001b[39m.\u001b[39mdot(h, v), \u001b[39m-\u001b[39mv1)  \u001b[39m# Check for sign difference\u001b[39;00m\n",
            "\u001b[1;31mTypeError\u001b[0m: cannot unpack non-iterable NoneType object"
          ]
        }
      ],
      "source": [
        "# Test I.1\n",
        "v = np.array([1, 2, 3])\n",
        "v1, h = householder(v)\n",
        "\n",
        "assert_allclose(np.dot(h, v1), -v)  # Check for sign difference\n",
        "assert_allclose(np.dot(h, v), -v1)  # Check for sign difference\n"
      ]
    },
    {
      "cell_type": "code",
      "execution_count": 18,
      "metadata": {
        "id": "Y_iJuPlpbzLI"
      },
      "outputs": [
        {
          "ename": "AssertionError",
          "evalue": "\nNot equal to tolerance rtol=1e-07, atol=0\n\nMismatched elements: 7 / 7 (100%)\nMax absolute difference: 1.15464202\nMax relative difference: 4.93467153\n x: array([-0.753566, -0.292522, -0.205824, -0.369283, -0.366752, -0.128176,\n       -0.129996])\n y: array([0.191519, 0.622109, 0.437728, 0.785359, 0.779976, 0.272593,\n       0.276464])",
          "output_type": "error",
          "traceback": [
            "\u001b[1;31m---------------------------------------------------------------------------\u001b[0m",
            "\u001b[1;31mAssertionError\u001b[0m                            Traceback (most recent call last)",
            "\u001b[1;32mc:\\Users\\admin\\MetNum\\MetNumUN2023II\\Lab8\\smottad_week_2_Householder_QR.ipynb Cell 8\u001b[0m line \u001b[0;36m8\n\u001b[0;32m      <a href='vscode-notebook-cell:/c%3A/Users/admin/MetNum/MetNumUN2023II/Lab8/smottad_week_2_Householder_QR.ipynb#X10sZmlsZQ%3D%3D?line=4'>5</a>\u001b[0m vec \u001b[39m=\u001b[39m rndm\u001b[39m.\u001b[39muniform(size\u001b[39m=\u001b[39m\u001b[39m7\u001b[39m)\n\u001b[0;32m      <a href='vscode-notebook-cell:/c%3A/Users/admin/MetNum/MetNumUN2023II/Lab8/smottad_week_2_Householder_QR.ipynb#X10sZmlsZQ%3D%3D?line=5'>6</a>\u001b[0m v1, h \u001b[39m=\u001b[39m householder(vec)\n\u001b[1;32m----> <a href='vscode-notebook-cell:/c%3A/Users/admin/MetNum/MetNumUN2023II/Lab8/smottad_week_2_Householder_QR.ipynb#X10sZmlsZQ%3D%3D?line=7'>8</a>\u001b[0m assert_allclose(np\u001b[39m.\u001b[39;49mdot(h, v1), vec)\n",
            "    \u001b[1;31m[... skipping hidden 1 frame]\u001b[0m\n",
            "File \u001b[1;32mc:\\Users\\admin\\AppData\\Local\\Programs\\Python\\Python311\\Lib\\contextlib.py:81\u001b[0m, in \u001b[0;36mContextDecorator.__call__.<locals>.inner\u001b[1;34m(*args, **kwds)\u001b[0m\n\u001b[0;32m     78\u001b[0m \u001b[39m@wraps\u001b[39m(func)\n\u001b[0;32m     79\u001b[0m \u001b[39mdef\u001b[39;00m \u001b[39minner\u001b[39m(\u001b[39m*\u001b[39margs, \u001b[39m*\u001b[39m\u001b[39m*\u001b[39mkwds):\n\u001b[0;32m     80\u001b[0m     \u001b[39mwith\u001b[39;00m \u001b[39mself\u001b[39m\u001b[39m.\u001b[39m_recreate_cm():\n\u001b[1;32m---> 81\u001b[0m         \u001b[39mreturn\u001b[39;00m func(\u001b[39m*\u001b[39;49margs, \u001b[39m*\u001b[39;49m\u001b[39m*\u001b[39;49mkwds)\n",
            "File \u001b[1;32mc:\\Users\\admin\\AppData\\Local\\Programs\\Python\\Python311\\Lib\\site-packages\\numpy\\testing\\_private\\utils.py:797\u001b[0m, in \u001b[0;36massert_array_compare\u001b[1;34m(comparison, x, y, err_msg, verbose, header, precision, equal_nan, equal_inf, strict)\u001b[0m\n\u001b[0;32m    793\u001b[0m         err_msg \u001b[39m+\u001b[39m\u001b[39m=\u001b[39m \u001b[39m'\u001b[39m\u001b[39m\\n\u001b[39;00m\u001b[39m'\u001b[39m \u001b[39m+\u001b[39m \u001b[39m'\u001b[39m\u001b[39m\\n\u001b[39;00m\u001b[39m'\u001b[39m\u001b[39m.\u001b[39mjoin(remarks)\n\u001b[0;32m    794\u001b[0m         msg \u001b[39m=\u001b[39m build_err_msg([ox, oy], err_msg,\n\u001b[0;32m    795\u001b[0m                             verbose\u001b[39m=\u001b[39mverbose, header\u001b[39m=\u001b[39mheader,\n\u001b[0;32m    796\u001b[0m                             names\u001b[39m=\u001b[39m(\u001b[39m'\u001b[39m\u001b[39mx\u001b[39m\u001b[39m'\u001b[39m, \u001b[39m'\u001b[39m\u001b[39my\u001b[39m\u001b[39m'\u001b[39m), precision\u001b[39m=\u001b[39mprecision)\n\u001b[1;32m--> 797\u001b[0m         \u001b[39mraise\u001b[39;00m \u001b[39mAssertionError\u001b[39;00m(msg)\n\u001b[0;32m    798\u001b[0m \u001b[39mexcept\u001b[39;00m \u001b[39mValueError\u001b[39;00m:\n\u001b[0;32m    799\u001b[0m     \u001b[39mimport\u001b[39;00m \u001b[39mtraceback\u001b[39;00m\n",
            "\u001b[1;31mAssertionError\u001b[0m: \nNot equal to tolerance rtol=1e-07, atol=0\n\nMismatched elements: 7 / 7 (100%)\nMax absolute difference: 1.15464202\nMax relative difference: 4.93467153\n x: array([-0.753566, -0.292522, -0.205824, -0.369283, -0.366752, -0.128176,\n       -0.129996])\n y: array([0.191519, 0.622109, 0.437728, 0.785359, 0.779976, 0.272593,\n       0.276464])"
          ]
        }
      ],
      "source": [
        "# Test I.2 (10% of the total grade).\n",
        "\n",
        "rndm = np.random.RandomState(1234)\n",
        "\n",
        "vec = rndm.uniform(size=7)\n",
        "v1, h = householder(vec)\n",
        "\n",
        "assert_allclose(np.dot(h, v1), vec)"
      ]
    },
    {
      "cell_type": "markdown",
      "metadata": {
        "id": "wNDpJogKb-WW"
      },
      "source": [
        "# Part II. Compute the $\\mathrm{QR}$ decomposition of a matrix.\n",
        "\n",
        "Given a rectangular $m\\times n$ matrix $\\mathbf{A}$, construct a Householder reflector matrix $\\mathbf{H}_1$ which transforms the first column of $\\mathbf{A}$ (and call the result $\\mathbf{A}^{(1)}$)\n",
        "\n",
        "$$\n",
        "\\mathbf{H}_1 \\mathbf{A} =%\n",
        "\\begin{pmatrix}\n",
        "\\times & \\times & \\times & \\dots & \\times \\\\\n",
        "0      & \\times & \\times & \\dots & \\times \\\\\n",
        "0      & \\times & \\times & \\dots & \\times \\\\\n",
        "&& \\dots&& \\\\\n",
        "0      & \\times & \\times & \\dots & \\times \\\\\n",
        "\\end{pmatrix}%\n",
        "\\equiv \\mathbf{A}^{(1)}\\;.\n",
        "$$\n",
        "\n",
        "Now consider the lower-right submatrix of $\\mathbf{A}^{(1)}$, and construct a Householder reflector which annihilates the second column of $\\mathbf{A}$:\n",
        "\n",
        "$$\n",
        "\\mathbf{H}_2 \\mathbf{A}^{(1)} =%\n",
        "\\begin{pmatrix}\n",
        "\\times & \\times & \\times & \\dots & \\times \\\\\n",
        "0      & \\times & \\times & \\dots & \\times \\\\\n",
        "0      & 0      & \\times & \\dots & \\times \\\\\n",
        "&& \\dots&& \\\\\n",
        "0      & 0      & \\times & \\dots & \\times \\\\\n",
        "\\end{pmatrix}%\n",
        "\\equiv \\mathbf{A}^{(2)} \\;.\n",
        "$$\n",
        "\n",
        "Repeating the process $n-1$ times, we obtain\n",
        "\n",
        "$$\n",
        "\\mathbf{H}_{n-1} \\cdots \\mathbf{H}_2 \\mathbf{H}_1 \\mathbf{A} = \\mathbf{R} \\;,\n",
        "$$\n",
        "\n",
        "with $\\mathbf{R}$ an upper triangular matrix. Since each $\\mathbf{H}_k$ is orthogonal, so is their product. The inverse of an orthogonal matrix is orthogonal. Hence the process generates the $\\mathrm{QR}$ decomposition of $\\mathbf{A}$. \n",
        "\n",
        "$$\n",
        "\\mathbf{A} = (\\mathbf{H}_{n-1} \\cdots \\mathbf{H}_2 \\mathbf{H}_1)^{-1} \\mathbf{R} \\;,\n",
        "$$\n",
        "so \n",
        "$$\n",
        "\\mathbf{A} =  \\mathbf{Q} \\mathbf{R} \\;,\n",
        "$$\n",
        "with\n",
        "$$\n",
        "\\mathbf{Q} = (\\mathbf{H}_{n-1} \\cdots \\mathbf{H}_2 \\mathbf{H}_1)^{-1} =  \\mathbf{H}_1^{-1}  \\mathbf{H}_2^{-1}  \\cdots \\mathbf{H}_{n-1}^{-1} = \\mathbf{H}_1^T  \\mathbf{H}_2^T  \\cdots \\mathbf{H}_{n-1}^T \n",
        "$$\n",
        "Since $\\mathbf{H}_i$ is ortogonal\n",
        "$$\n",
        "\\mathbf{H}_i\\mathbf{H}_i^T = \\mathbf{I}\n",
        "$$\n",
        "then\n",
        "$$\n",
        "\\mathbf{H}^{-1} = \\mathbf{H}^T \n",
        "$$\n",
        "but also  $\\mathbf{H}_i$ is symetric\n",
        "$$\n",
        "\\mathbf{H}_i^T = \\mathbf{H}_i\n",
        "$$\n",
        "so\n",
        "$$\n",
        "\\mathbf{Q} = \\mathbf{H}_1^{-1}  \\mathbf{H}_2^{-1}  \\cdots \\mathbf{H}_{n-1}^{-1} = \\mathbf{H}_1^T  \\mathbf{H}_2^T  \\cdots \\mathbf{H}_{n-1}^T =  \\mathbf{H}_1 \\mathbf{H}_2  \\cdots \\mathbf{H}_{n-1}\n",
        "$$\n"
      ]
    },
    {
      "cell_type": "code",
      "execution_count": null,
      "metadata": {
        "id": "-asgo49bb42_"
      },
      "outputs": [],
      "source": [
        "def qr_decomp(a):\n",
        "    \"\"\"Compute the QR decomposition of a matrix.\n",
        "    \n",
        "    Parameters\n",
        "    ----------\n",
        "    a : ndarray, shape(m, n)\n",
        "        The input matrix\n",
        "    \n",
        "    Returns\n",
        "    -------\n",
        "    Q : ndarray, shape(m, m)\n",
        "        The orthogonal matrix\n",
        "    R : ndarray, shape(m, n)\n",
        "        The upper triangular matrix\n",
        "        \n",
        "    Examples\n",
        "    --------\n",
        "    >>> a = np.random.random(size=(3, 5))\n",
        "    >>> q, r = qr_decomp(a)\n",
        "    >>> np.assert_allclose(np.dot(q, r), a)\n",
        "    \n",
        "    \"\"\"\n",
        "    # ... ENTER YOUR CODE HERE ...\n",
        "\n",
        "    return Q,R"
      ]
    },
    {
      "cell_type": "code",
      "execution_count": null,
      "metadata": {
        "id": "9JNb9e0Ncv-B"
      },
      "outputs": [],
      "source": [
        "# Might want to turn this on for prettier printing: zeros instead of `1e-16` etc\n",
        "\n",
        "np.set_printoptions(suppress=True)"
      ]
    },
    {
      "cell_type": "code",
      "execution_count": null,
      "metadata": {
        "id": "SiI3KkVnsqQz"
      },
      "outputs": [],
      "source": [
        "# Test II.1 (20% of the total grade)\n",
        "\n",
        "rndm = np.random.RandomState(1234)\n",
        "a = rndm.uniform(size=(5, 3))\n",
        "q, r = qr_decomp(a)\n",
        "\n",
        "# test that Q is indeed orthogonal\n",
        "assert_allclose(np.dot(q, q.T), np.eye(5), atol=1e-10)\n",
        "\n",
        "# test the decomposition itself\n",
        "assert_allclose(np.dot(q, r), a)"
      ]
    },
    {
      "cell_type": "markdown",
      "metadata": {
        "id": "zB1DDyVps5Br"
      },
      "source": [
        "Now compare your decompositions to the library function (which actually wraps the corresponding LAPACK functions)"
      ]
    },
    {
      "cell_type": "code",
      "execution_count": null,
      "metadata": {
        "id": "mfDa37dts6K6"
      },
      "outputs": [],
      "source": [
        "from scipy.linalg import qr\n",
        "qq, rr = qr(a)\n",
        "\n",
        "assert_allclose(np.dot(qq, rr), a)"
      ]
    },
    {
      "cell_type": "markdown",
      "metadata": {
        "id": "IFOrXiW5tGjL"
      },
      "source": [
        "Check if your q and r agree with qq and rr. Explain."
      ]
    },
    {
      "cell_type": "code",
      "execution_count": null,
      "metadata": {
        "id": "d2sBV9aPdoJA"
      },
      "outputs": [],
      "source": [
        "from scipy.linalg import qr\n",
        "a = np.array([[4,3,1], [5,7,0], [9,9,3], [8,2,4], [9,3,1]])\n",
        "q, r = qr_decomp(a)\n",
        "qq, rr = qr(a)\n",
        "print(q)\n",
        "print(qq)\n",
        "print(r)\n",
        "print(rr)\n",
        "print(a)\n",
        "print(q@r)\n",
        "print(qq@rr)"
      ]
    },
    {
      "cell_type": "markdown",
      "metadata": {
        "id": "mv5qlwoHMwvU"
      },
      "source": [
        "Enter your explanation here (10% of the total grade, peer-graded)"
      ]
    },
    {
      "cell_type": "markdown",
      "metadata": {
        "id": "zwqwAkrotneq"
      },
      "source": [
        "# Part III. Avoid forming Householder matrices explicitly."
      ]
    },
    {
      "cell_type": "markdown",
      "metadata": {
        "id": "LfaWxcavtofS"
      },
      "source": [
        "Note the special structure of the Householder matrices: A reflector $\\mathbf{H}$ is completely specified by a reflection vector $\\mathbf{u}$. Also note that the computational cost of applying a reflector to a matrix strongly depends on the order of operations:\n",
        "\n",
        "$$\n",
        "\\left( \\mathbf{u} \\mathbf{u}^T \\right) \\mathbf{A}  \\qquad \\textrm{is } O(m^2 n)\\;,\n",
        "$$\n",
        "while\n",
        "$$\n",
        "\\mathbf{u} \\left( \\mathbf{u}^T \\mathbf{A} \\right) \\qquad \\textrm{is } O(mn)\n",
        "$$\n",
        "\n",
        "Thus, it seems to make sense to *avoid* forming the $\\mathbf{H}$ matrices. Instead, one stores the reflection vectors, $\\mathbf{u}$, themselves, and provides a way of multiplying an arbitrary matrix by $\\mathbf{Q}^T$, e.g., as a standalone function (or a class).\n",
        "\n",
        "\n",
        "\n"
      ]
    },
    {
      "cell_type": "markdown",
      "metadata": {
        "id": "xdrCItiYt027"
      },
      "source": [
        "Write a function which constructs the `QR` decomposition of a matrix *without ever forming the* $\\mathbf{H}$ matrices, and returns the $\\mathbf{R}$ matrix and reflection vectors. \n",
        "\n",
        "Write a second function, which uses reflection vectors to multiply a matrix with $\\mathbf{Q}^T$. Make sure to include enough comments for a marker to follow your implementation, and add tests. \n",
        "\n",
        "(Peer-graded, 40% of the total grade)"
      ]
    },
    {
      "cell_type": "markdown",
      "metadata": {
        "id": "02SQz3w1MAdF"
      },
      "source": [
        "$$\n",
        "\\mathbf{R} = \\mathbf{H}_{n-1} \\cdots \\mathbf{H}_2 \\mathbf{H}_1 \\mathbf{A} \n",
        "$$\n",
        "and \n",
        "$$\n",
        "\\mathbf{H}_i = \\mathbf{I} - 2 \\mathbf{u}_i \\mathbf{u}_i^T\n",
        "$$\n",
        "so if\n",
        "$$\n",
        "\\mathbf{R}_0 =  \\mathbf{A}\n",
        "$$\n",
        "then \n",
        "$$\n",
        "\\mathbf{R}_1 = \\mathbf{H}_1 \\mathbf{R}_0= \\ (\\mathbf{I} - 2 \\mathbf{u}_1 \\mathbf{u}_1^T) \\mathbf{R}_0 =  \\mathbf{R}_0 -  2 \\mathbf{u}_1 ( \\mathbf{u}_1^T  \\mathbf{R}_0)\n",
        "$$\n",
        "and\n",
        "$$\n",
        "\\mathbf{R}_2 = \\mathbf{H}_2 \\mathbf{R}_1 = \\ (\\mathbf{I} - 2 \\mathbf{u}_2 \\mathbf{u}_2^T) \\mathbf{R}_1 =  \\mathbf{R}_1 -  2 \\mathbf{u}_2 ( \\mathbf{u}_2^T  \\mathbf{R}_1)\n",
        "$$\n",
        "so on until\n",
        "$$\n",
        "\\mathbf{R} = \\mathbf{H}_n \\mathbf{R}_{n-1} =  (\\mathbf{I} - 2 \\mathbf{u}_{n-1} \\mathbf{u}_{n-1}^T) \\mathbf{R}_{n-1} = \\mathbf{R}_{n-1} -  2 \\mathbf{u}_{n-1} ( \\mathbf{u}_{n-1}^T  \\mathbf{R}_{n-1})\n",
        "$$"
      ]
    },
    {
      "cell_type": "code",
      "execution_count": null,
      "metadata": {
        "id": "agH0iQYjt145"
      },
      "outputs": [],
      "source": [
        "def r_decomp(a):\n",
        "    \"\"\"Compute R without ever forming the  H  matrices\n",
        "    \n",
        "    Parameters\n",
        "    ----------\n",
        "    a : ndarray, shape(m, n)\n",
        "        The input matrix\n",
        "    \n",
        "    Returns\n",
        "    -------\n",
        "    \n",
        "    R : ndarray, shape(m, n)\n",
        "        The upper triangular matrix\n",
        "    vecs:  reflection vectors.\n",
        "        \n",
        "    \"\"\"\n",
        "    # ... ENTER YOUR CODE HERE ...\n",
        "\n",
        "    return R, vecs"
      ]
    },
    {
      "cell_type": "markdown",
      "metadata": {
        "id": "pfIyTAAyL3xd"
      },
      "source": [
        "$$\n",
        "\\mathbf{Q} =  \\mathbf{H}_1 \\mathbf{H}_2  \\cdots \\mathbf{H}_{n-1}\n",
        "$$\n",
        "and\n",
        "$$\n",
        "\\mathbf{H}_i = \\mathbf{I} - 2 \\mathbf{u}_i \\mathbf{u}_i^T\n",
        "$$\n",
        "so \n",
        "$$\n",
        "\\mathbf{Q} =  (\\mathbf{I} - 2 \\mathbf{u}_1 \\mathbf{u}_1^T )( \\mathbf{I} - 2 \\mathbf{u}_2 \\mathbf{u}_2^T)  \\cdots (\\mathbf{I} - 2 \\mathbf{u}_{n-1} \\mathbf{u}_{n-1}^T)\n",
        "$$"
      ]
    },
    {
      "cell_type": "code",
      "execution_count": null,
      "metadata": {
        "id": "n_ER2kVdLprT"
      },
      "outputs": [],
      "source": [
        "def q_decomp(vecs):\n",
        "    \"\"\"Compute Q and QT from reflection vectors\n",
        "    \n",
        "    Parameters\n",
        "    ----------\n",
        "    a : ndarray, shape(m, n)\n",
        "        The input matrix\n",
        "    \n",
        "    Returns\n",
        "    -------\n",
        "    \n",
        "    Q : ndarray, shape(m, m)\n",
        "        The ortogonal matrix\n",
        "    Q.T : ndarray, shape(m, m)\n",
        "        The transpose of Q\n",
        "\n",
        "    \"\"\"\n",
        "    \n",
        "    # ... ENTER YOUR CODE HERE ...\n",
        "\n",
        "    return Q, Q.T"
      ]
    },
    {
      "cell_type": "code",
      "execution_count": null,
      "metadata": {
        "id": "a6TJziVDUQf3"
      },
      "outputs": [],
      "source": [
        "rndm = np.random.RandomState(1234)\n",
        "a = rndm.uniform(size=(5, 3))\n",
        "r, vecs = r_decomp(a)\n",
        "q,qt = q_decomp(vecs)\n",
        "\n",
        "# test that Q is indeed orthogonal\n",
        "assert_allclose(np.dot(q, q.T), np.eye(5), atol=1e-10)\n",
        "\n",
        "# test the decomposition itself\n",
        "assert_allclose(np.dot(q, r), a)"
      ]
    },
    {
      "cell_type": "code",
      "execution_count": null,
      "metadata": {
        "id": "-eaGWWkHX-dP"
      },
      "outputs": [],
      "source": [
        "from scipy.linalg import qr\n",
        "qq, rr = qr(a)\n",
        "\n",
        "assert_allclose(np.dot(qq, rr), a)"
      ]
    },
    {
      "cell_type": "code",
      "execution_count": 8,
      "metadata": {
        "colab": {
          "base_uri": "https://localhost:8080/"
        },
        "id": "6JGctCeR_LLn",
        "outputId": "2044af4f-36f9-4e41-b7bc-e114dd0ac1d4"
      },
      "outputs": [
        {
          "name": "stdout",
          "output_type": "stream",
          "text": [
            "R\n",
            "  [[16.34013464 10.46503005  4.40632844]\n",
            " [ 0.          6.51790964 -0.7843557 ]\n",
            " [ 0.         -0.          2.63989693]\n",
            " [ 0.          0.          0.        ]\n",
            " [ 0.         -0.         -0.        ]]\n",
            "Q\n",
            " [[ 0.24479602  0.06723049 -0.00981821  0.96611775  0.04555281]\n",
            " [ 0.30599503  0.58266423 -0.33762629 -0.09006618 -0.6669078 ]\n",
            " [ 0.55079106  0.4964713   0.36457628 -0.19531237  0.52828277]\n",
            " [ 0.48959205 -0.47923271  0.55563068 -0.06304632 -0.46683546]\n",
            " [ 0.55079106 -0.42406923 -0.66653641 -0.12799536  0.23694072]]\n",
            "QT\n",
            " [[ 0.24479602  0.30599503  0.55079106  0.48959205  0.55079106]\n",
            " [ 0.06723049  0.58266423  0.4964713  -0.47923271 -0.42406923]\n",
            " [-0.00981821 -0.33762629  0.36457628  0.55563068 -0.66653641]\n",
            " [ 0.96611775 -0.09006618 -0.19531237 -0.06304632 -0.12799536]\n",
            " [ 0.04555281 -0.6669078   0.52828277 -0.46683546  0.23694072]]\n",
            "QT@Q\n",
            " [[ 1. -0.  0.  0. -0.]\n",
            " [-0.  1. -0. -0.  0.]\n",
            " [ 0. -0.  1.  0. -0.]\n",
            " [ 0. -0.  0.  1.  0.]\n",
            " [-0.  0. -0.  0.  1.]]\n",
            "a\n",
            " [[4 3 1]\n",
            " [5 7 0]\n",
            " [9 9 3]\n",
            " [8 2 4]\n",
            " [9 3 1]]\n",
            "Q@R\n",
            " [[ 4.  3.  1.]\n",
            " [ 5.  7. -0.]\n",
            " [ 9.  9.  3.]\n",
            " [ 8.  2.  4.]\n",
            " [ 9.  3.  1.]]\n"
          ]
        }
      ],
      "source": [
        "a = np.array([[4,3,1], [5,7,0], [9,9,3], [8,2,4], [9,3,1]])\n",
        "R, vecs = r_decomp(a)\n",
        "print(\"R\\n \",R)\n",
        "Q,QT = q_decomp(vecs)\n",
        "print(\"Q\\n\",Q)\n",
        "print(\"QT\\n\",QT)\n",
        "print(\"QT@Q\\n\",QT@Q)\n",
        "print(\"a\\n\",a)\n",
        "print(\"Q@R\\n\",Q@R)"
      ]
    }
  ],
  "metadata": {
    "colab": {
      "authorship_tag": "ABX9TyPib4BF749fft744LIX6pGy",
      "collapsed_sections": [],
      "name": "gjhernandezp_week_2_Householder_QR.ipynb",
      "provenance": []
    },
    "kernelspec": {
      "display_name": "Python 3",
      "name": "python3"
    },
    "language_info": {
      "codemirror_mode": {
        "name": "ipython",
        "version": 3
      },
      "file_extension": ".py",
      "mimetype": "text/x-python",
      "name": "python",
      "nbconvert_exporter": "python",
      "pygments_lexer": "ipython3",
      "version": "3.11.3"
    }
  },
  "nbformat": 4,
  "nbformat_minor": 0
}
