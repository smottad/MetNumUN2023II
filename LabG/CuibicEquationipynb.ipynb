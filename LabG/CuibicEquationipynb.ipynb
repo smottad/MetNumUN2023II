{
  "cells": [
    {
      "cell_type": "markdown",
      "metadata": {
        "id": "q5PfhUy3iXZi"
      },
      "source": [
        "Modify [week_1_quadratic_Po_Shen_Loh.ipyn](https://colab.research.google.com/drive/15vXGB18_np6o0Rw8ZV4o08RTdCdDIdT0?usp=sharing) for\n",
        "\n",
        "$$ ax^3+bx^+cx +d = 0$$\n",
        "\n",
        "using Cubic equation – Cardano–Tartaglia formula- [wikipedia](https://en.wikipedia.org/wiki/Cubic_equation)\n",
        "\n",
        "Asuume $a=1$ then work wequations are of the form\n",
        "\n",
        "$$ x^3+bx^+cx +d = 0$$\n",
        "\n",
        "Including expalnataions. plots, solution code and test cases\n",
        "\n"
      ]
    },
    {
      "cell_type": "code",
      "execution_count": null,
      "metadata": {
        "id": "2etHLiNplRC_"
      },
      "outputs": [],
      "source": [
        "def cubic(b,c,d,x):\n",
        "    \"\"\"Calulate the value of the  qubic equation, v = x**3 + bx**2 + c*x +d\n",
        "\n",
        "    Parameters\n",
        "    ----------\n",
        "    b, c,d  : float\n",
        "       Coefficients\n",
        "\n",
        "    Returns\n",
        "    -------\n",
        "    v : float \"\"\"\n",
        "\n",
        "    # ... enter your code here ...\n",
        "\n",
        "    return v"
      ]
    },
    {
      "cell_type": "code",
      "execution_count": null,
      "metadata": {
        "id": "o99NfjpaiThf"
      },
      "outputs": [],
      "source": [
        "import math\n",
        "def solve_cubic(b, c,d):\n",
        "    \"\"\"Solve a cubic equation, x**3 + bx**2 + c*x +d = 0.\n",
        "\n",
        "    Parameters\n",
        "    ----------\n",
        "    b, c,d : float\n",
        "       Coefficients\n",
        "\n",
        "    Returns\n",
        "    -------\n",
        "    x1, x2,x3 : float or complex\n",
        "       Roots.  \"\"\"\n",
        "\n",
        "    # ... enter your code here ...\n",
        "\n",
        "    return x1,x2,x3"
      ]
    },
    {
      "cell_type": "markdown",
      "metadata": {
        "id": "BpvJhj5Zl2lI"
      },
      "source": [
        "Bulit test cases that include\n",
        "\n",
        "$$x^3 =1,$$\n",
        "\n",
        "$$(x-1)^3 = x^3 - 3 x^2 + 3 x - 1,$$\n",
        "\n",
        "$$(x-1)(x-i)(x+i) = x^3 - x^2 + x - 1, $$\n",
        "three real diferent roots,  roots in the last digits of the group members, root of mtiuplicity two, and complex roots with small and large $b$.\n",
        "\n",
        "**Last digits:**"
      ]
    },
    {
      "cell_type": "code",
      "execution_count": null,
      "metadata": {
        "id": "8fjriYmkmHOw"
      },
      "outputs": [],
      "source": [
        "from numpy import allclose\n",
        "\n",
        "variants = [{'b': 0.0, 'c': 0.0, 'd': 0.0},\n",
        "            {'b': -3.0, 'c': 3.0, , 'd':-1.0},\n",
        "            {'b': -1.0, 'c': 1.0, , 'd':-1.0},]\n",
        "\n",
        "for var in variants:\n",
        "    x1, x2, x3= solve_cubic(**var)\n",
        "    print(allclose(cubic(var['b'],var['c'],var['d'],x1), 0.0) and allclose(cubic(var['b'],var['c'],var['d'],x2), 0.0) and  allclose(cubic(var['b'],var['c'],var['d'],x3), 0.0))"
      ]
    },
    {
      "cell_type": "markdown",
      "metadata": {
        "id": "0s01RrfqmE_f"
      },
      "source": [
        " Publisth the notebook in as **pperezp_groupN_CubicEquation.ipynb** at **MetNumUN2023II/Lab5** and submit only the code of **solve_cubic(b, c,d)** in UNcode Quiz Cubic Equation."
      ]
    }
  ],
  "metadata": {
    "colab": {
      "provenance": []
    },
    "kernelspec": {
      "display_name": "Python 3",
      "name": "python3"
    },
    "language_info": {
      "name": "python",
      "version": "3.11.3"
    }
  },
  "nbformat": 4,
  "nbformat_minor": 0
}
