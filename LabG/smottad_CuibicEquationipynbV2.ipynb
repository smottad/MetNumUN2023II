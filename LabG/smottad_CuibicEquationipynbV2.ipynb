{
  "nbformat": 4,
  "nbformat_minor": 0,
  "metadata": {
    "colab": {
      "provenance": []
    },
    "kernelspec": {
      "name": "python3",
      "display_name": "Python 3"
    },
    "language_info": {
      "name": "python"
    }
  },
  "cells": [
    {
      "cell_type": "markdown",
      "source": [
        "LAB 5:\n",
        "\n",
        "*   Eder José Hernández Buelvas : Last digit: 0\n",
        "*   Sergio Iván Motta Doncel: Last digit 8\n",
        "\n"
      ],
      "metadata": {
        "id": "7Lw_qv2Qcwv9"
      }
    },
    {
      "cell_type": "markdown",
      "source": [
        "Modify [week_1_quadratic_Po_Shen_Loh.ipyn](https://colab.research.google.com/drive/15vXGB18_np6o0Rw8ZV4o08RTdCdDIdT0?usp=sharing) for\n",
        "\n",
        "$$ ax^3+bx^+cx +d = 0$$\n",
        "\n",
        "using Cubic equation – Cardano–Tartaglia formula- [wikipedia](https://en.wikipedia.org/wiki/Cubic_equation)\n",
        "\n",
        "Asuume $a=1$ then work wequations are of the form\n",
        "\n",
        "$$ x^3+bx^+cx +d = 0$$\n",
        "\n",
        "Including expalnataions. plots, solution code and test cases\n",
        "\n"
      ],
      "metadata": {
        "id": "q5PfhUy3iXZi"
      }
    },
    {
      "cell_type": "markdown",
      "source": [
        "## Cubic equation  $a x^3 + b x^2 + cx + d = 0$\n",
        "\n",
        "\n",
        "\n",
        "Are the same root (zeros) of\n",
        "\n",
        "$$x^3 + \\frac{bx^2}{a} x + \\frac{cx}{a}+\\frac{d}{a} = 0$$"
      ],
      "metadata": {
        "id": "jRHwxQTQECPb"
      }
    },
    {
      "cell_type": "markdown",
      "source": [
        "#Formula Cubica General\n",
        "\n"
      ],
      "metadata": {
        "id": "Ai-_1jfB-KYq"
      }
    },
    {
      "cell_type": "code",
      "source": [
        "import numpy as np\n",
        "import matplotlib.pyplot as plt\n",
        "\n",
        "def cubic(a,b,c,d,x):\n",
        "    return a*x**3+b*x**2+c*x+d\n",
        "\n",
        "def cubicev(a,b,c,d,x):\n",
        "    return x**3+(b*x**2/a)+(c*x/a)+(d/a)\n",
        "\n",
        "# (2x-1) (x+2) = 2x**2 +3x -2 =0;  x_1 = 1/2, x_2 =-2\n",
        "# Equivalent x**2 +3/2x -1 = 0\n",
        "\n",
        "x = np.arange(-3.5, 2, 0.001)\n",
        "z = np.zeros(len(x))\n",
        "y = cubic(2,3,-2,-2,x)\n",
        "ynew = cubicev(2,3,-2,-2,x)\n",
        "plt.plot(x, y, x, ynew, x,z)\n",
        "plt.show()"
      ],
      "metadata": {
        "colab": {
          "base_uri": "https://localhost:8080/",
          "height": 430
        },
        "id": "cYIzxagmEFZs",
        "outputId": "8b327ec4-2593-4ee4-bb6c-81d6ae49e036"
      },
      "execution_count": null,
      "outputs": [
        {
          "output_type": "display_data",
          "data": {
            "text/plain": [
              "<Figure size 640x480 with 1 Axes>"
            ],
            "image/png": "[encoded data removed]"
          },
          "metadata": {}
        }
      ]
    },
    {
      "cell_type": "markdown",
      "source": [
        "Primer paso:\n",
        "\n",
        "\n",
        "Definir:\n",
        "$$ Δ_0=b^2 -3ac $$\n",
        "\n",
        "$$ Δ_1=2b^3 -9bc+27d $$\n",
        "\n",
        "Segundo paso:\n",
        "\n",
        "Definir:\n",
        "\n",
        "$$C=\\sqrt[3]{\\frac{Δ_1 \\pm \\sqrt{Δ_1^2-4Δ_0^3}}{2}}$$\n",
        "\n",
        "Si $$Δ_0=0,  Δ_1=0$$ entonces todas las raices serán de la forma:\n",
        "\n",
        "$$\\frac{-b}{3a}$$\n",
        "\n",
        "\n",
        "\n",
        "En caso contrario:\n",
        "\n",
        "$$x_1=-\\frac{1}{3a}(b+C+\\frac{Δ_0}{C}$$\n",
        "\n",
        "$$x_2=-\\frac{1}{3a}(b+C\\frac{-1+\\sqrt{-3}}{2}+\\frac{Δ_0}{C\\frac{-1+\\sqrt{-3}}{2}}$$\n",
        "\n",
        "$$x_3=-\\frac{1}{3a}(b+C(\\frac{-1+\\sqrt{-3}}{2})^2+\\frac{Δ_0}{C(\\frac{-1+\\sqrt{-3}}{2})^2}$$"
      ],
      "metadata": {
        "id": "DLB0zIkjfPMS"
      }
    },
    {
      "cell_type": "code",
      "source": [
        "def cubic(b,c,d,x):\n",
        "    \"\"\"Calulate the value of the  qubic equation, v = x**3 + bx**2 + c*x +d\n",
        "\n",
        "    Parameters\n",
        "    ----------\n",
        "    b, c,d  : float\n",
        "       Coefficients\n",
        "\n",
        "    Returns\n",
        "    -------\n",
        "    v : float \"\"\"\n",
        "\n",
        "    # ... enter your code here ...\n",
        "    v = x**3 + b*x**2 + c*x +d\n",
        "\n",
        "    return v"
      ],
      "metadata": {
        "id": "2etHLiNplRC_"
      },
      "execution_count": 5,
      "outputs": []
    },
    {
      "cell_type": "code",
      "source": [
        "import cmath\n",
        "import math\n",
        "def solve_cubic(b, c, d):\n",
        "\n",
        "#With large B, the code isnt work due to proximation problems\n",
        "    delta = b**2 - 3*c\n",
        "    delta2 = 2*(b**3) - 9*b*c + 27*d\n",
        "    C1 = ((delta2 + math.sqrt(delta2**2 - 4*(delta**3))) / 2)**(1/3)\n",
        "    C2 = ((delta2 - math.sqrt(delta2**2 - 4*(delta**3))) / 2)**(1/3)\n",
        "    epsilon = (-1 + cmath.sqrt(-3)) / 2\n",
        "\n",
        "    if delta == 0 and delta2 == 0:\n",
        "        x = -b / 3\n",
        "        return x, x, x\n",
        "    elif C1==0:\n",
        "       x1 = (-1 / 3) * (b + C2 + (delta / C2))\n",
        "       x2 = (-1 / 3) * (b + epsilon * C2 + (delta / (epsilon * C2)))\n",
        "       x3 = (-1 / 3) * (b + C2 * (epsilon**2) + (delta / ((epsilon**2) * C2)))\n",
        "    else:\n",
        "       x1 = (-1 / 3) * (b + C1 + (delta / C1))\n",
        "       x2 = (-1 / 3) * (b + epsilon * C1 + (delta / (epsilon * C1)))\n",
        "       x3 = (-1 / 3) * (b + C1 * (epsilon**2) + (delta / ((epsilon**2) * C1)))\n",
        "\n",
        "    return x1, x2, x3"
      ],
      "metadata": {
        "id": "c8b7vnDGvddu"
      },
      "execution_count": 9,
      "outputs": []
    },
    {
      "cell_type": "markdown",
      "source": [
        "## Por alguna razon este metodo esta añadiendo complejos cuando no debe ser"
      ],
      "metadata": {
        "id": "smoh1UKFjxPB"
      }
    },
    {
      "cell_type": "code",
      "source": [
        "b = 1000000\n",
        "c = 3\n",
        "d = 2\n",
        "\n",
        "raices = solve_cubic(b, c, d)\n",
        "print(raices)\n",
        "print(cubic(b,c,d,raices[0])) #In wolfran, it works. But here, there are problems with cubic formula\n",
        "print(0==cubic(b,c,d,raices[0]))\n",
        "print(0==cubic(b,c,d,raices[1]))\n",
        "print(0==cubic(b,c,d,raices[2]))\n"
      ],
      "metadata": {
        "colab": {
          "base_uri": "https://localhost:8080/"
        },
        "id": "H0d7aQW_jDPY",
        "outputId": "58fc3f1e-dc80-48e2-8627-51284edc8611"
      },
      "execution_count": 12,
      "outputs": [
        {
          "output_type": "stream",
          "name": "stdout",
          "text": [
            "(-999999.999997, (-1.4999532140791416e-06-0.0014142122818157077j), (-1.5000308242936928e-06+0.0014142122818157077j))\n",
            "66.00000900030136\n",
            "False\n",
            "False\n",
            "False\n"
          ]
        }
      ]
    },
    {
      "cell_type": "markdown",
      "source": [
        "Bulit test cases that include\n",
        "\n",
        "$$x^3 =1,$$\n",
        "\n",
        "$$(x-1)^3 = x^3 - 3 x^2 + 3 x - 1,$$\n",
        "\n",
        "$$(x-1)(x-i)(x+i) = x^3 - x^2 + x - 1, $$\n",
        "\n",
        "three real diferent roots,  roots in the last digits of the group members, root of mtiuplicity two, and complex roots with small and large $b$.\n",
        "\n",
        "**Last digits:**"
      ],
      "metadata": {
        "id": "BpvJhj5Zl2lI"
      }
    },
    {
      "cell_type": "code",
      "source": [
        "from numpy import allclose\n",
        "import math\n",
        "\n",
        "variants = [{'b': 0.0, 'c': 0.0, 'd': 0.0},\n",
        "            {'b': -3.0, 'c': 3.0,  'd':-1.0},\n",
        "            {'b': -1.0, 'c': 1.0,  'd':-1.0},\n",
        "]\n",
        "\n",
        "for var in variants:\n",
        "    x1, x2, x3= solve_cubic(**var)\n",
        "    print(allclose(cubic(var['b'],var['c'],var['d'],x1), 0.0) and allclose(cubic(var['b'],var['c'],var['d'],x2), 0.0) and  allclose(cubic(var['b'],var['c'],var['d'],x3), 0.0))"
      ],
      "metadata": {
        "id": "8fjriYmkmHOw",
        "colab": {
          "base_uri": "https://localhost:8080/"
        },
        "outputId": "3d4ea1ee-2436-4bef-9c07-07b89e2fbb2f"
      },
      "execution_count": 10,
      "outputs": [
        {
          "output_type": "stream",
          "name": "stdout",
          "text": [
            "True\n",
            "True\n",
            "True\n"
          ]
        }
      ]
    },
    {
      "cell_type": "markdown",
      "source": [
        "Three real different roots"
      ],
      "metadata": {
        "id": "yPRhauFi8OrM"
      }
    },
    {
      "cell_type": "code",
      "source": [
        "from numpy import allclose\n",
        "import math\n",
        "\n",
        "variants = [{'b': -195, 'c': 4223, 'd': -20349},\n",
        "            {'b': 7, 'c': -50,  'd':-336},\n",
        "            {'b': -91, 'c': -910,  'd': 100},\n",
        "]\n",
        "\n",
        "for var in variants:\n",
        "    x1, x2, x3= solve_cubic(**var)\n",
        "    print(allclose(cubic(var['b'],var['c'],var['d'],x1), 0.0) and allclose(cubic(var['b'],var['c'],var['d'],x2), 0.0) and  allclose(cubic(var['b'],var['c'],var['d'],x3), 0.0))"
      ],
      "metadata": {
        "colab": {
          "base_uri": "https://localhost:8080/"
        },
        "id": "_RLkmD3r8N9S",
        "outputId": "a26d9ae8-2ac7-406a-a70a-2ea3be7c7247"
      },
      "execution_count": null,
      "outputs": [
        {
          "output_type": "stream",
          "name": "stdout",
          "text": [
            "True\n",
            "True\n",
            "True\n"
          ]
        }
      ]
    },
    {
      "cell_type": "markdown",
      "source": [
        "Roots in the last digits of the group members, Last IDs = 0,8. The other member didnt work"
      ],
      "metadata": {
        "id": "togb17Zqd-rJ"
      }
    },
    {
      "cell_type": "code",
      "source": [
        "from numpy import allclose\n",
        "import math\n",
        "\n",
        "variants = [{'b': -8, 'c': 0, 'd': 0}\n",
        "\n",
        "]\n",
        "\n",
        "for var in variants:\n",
        "    x1, x2, x3= solve_cubic(**var)\n",
        "    print(allclose(cubic(var['b'],var['c'],var['d'],x1), 0.0) and allclose(cubic(var['b'],var['c'],var['d'],x2), 0.0) and  allclose(cubic(var['b'],var['c'],var['d'],x3), 0.0))"
      ],
      "metadata": {
        "colab": {
          "base_uri": "https://localhost:8080/"
        },
        "id": "svEnssXYd_Ky",
        "outputId": "f1ce71ea-6495-4637-9181-8ef1bf6095e8"
      },
      "execution_count": 13,
      "outputs": [
        {
          "output_type": "stream",
          "name": "stdout",
          "text": [
            "True\n"
          ]
        }
      ]
    },
    {
      "cell_type": "markdown",
      "source": [
        "root of multiplicity two"
      ],
      "metadata": {
        "id": "fXwNIBa0ebts"
      }
    },
    {
      "cell_type": "code",
      "source": [
        "from numpy import allclose\n",
        "import math\n",
        "\n",
        "variants = [{'b': -7, 'c': 15, 'd': -9}\n",
        "\n",
        "]\n",
        "\n",
        "for var in variants:\n",
        "    x1, x2, x3= solve_cubic(**var)\n",
        "    print(allclose(cubic(var['b'],var['c'],var['d'],x1), 0.0) and allclose(cubic(var['b'],var['c'],var['d'],x2), 0.0) and  allclose(cubic(var['b'],var['c'],var['d'],x3), 0.0))"
      ],
      "metadata": {
        "colab": {
          "base_uri": "https://localhost:8080/"
        },
        "id": "wJtSd8cmebb8",
        "outputId": "49fea1e2-d6d7-4abd-ee46-73b92ecb34c7"
      },
      "execution_count": null,
      "outputs": [
        {
          "output_type": "stream",
          "name": "stdout",
          "text": [
            "True\n"
          ]
        }
      ]
    },
    {
      "cell_type": "markdown",
      "source": [
        "Complex root with small and large b"
      ],
      "metadata": {
        "id": "4zqeFF22hGG6"
      }
    },
    {
      "cell_type": "code",
      "source": [
        "from numpy import allclose\n",
        "import math\n",
        "\n",
        "variants = [{'b': -2, 'c': 5, 'd': -6},\n",
        "            {'b': 910, 'c': 91, 'd': 10}\n",
        "\n",
        "]\n",
        "\n",
        "for var in variants:\n",
        "    x1, x2, x3= solve_cubic(**var)\n",
        "    print(allclose(cubic(var['b'],var['c'],var['d'],x1), 0.0) and allclose(cubic(var['b'],var['c'],var['d'],x2), 0.0) and  allclose(cubic(var['b'],var['c'],var['d'],x3), 0.0))"
      ],
      "metadata": {
        "colab": {
          "base_uri": "https://localhost:8080/"
        },
        "id": "iXZzAU8JhGZM",
        "outputId": "3159405c-122a-4dab-87fa-1568e354f453"
      },
      "execution_count": null,
      "outputs": [
        {
          "output_type": "stream",
          "name": "stdout",
          "text": [
            "True\n",
            "True\n"
          ]
        }
      ]
    },
    {
      "cell_type": "code",
      "source": [
        "from numpy import allclose\n",
        "import math\n",
        "\n",
        "variants = [{'b': -2, 'c': 5, 'd': -6},\n",
        "]\n",
        "\n",
        "for var in variants:\n",
        "    x1, x2, x3= solve_cubic(**var)\n",
        "    print(allclose(cubic(var['b'],var['c'],var['d'],x1), 0.0) and allclose(cubic(var['b'],var['c'],var['d'],x2), 0.0) and  allclose(cubic(var['b'],var['c'],var['d'],x3), 0.0))"
      ],
      "metadata": {
        "colab": {
          "base_uri": "https://localhost:8080/"
        },
        "id": "bbundYaBwP4j",
        "outputId": "6255e596-74ce-46df-ea91-a799ae87c480"
      },
      "execution_count": 11,
      "outputs": [
        {
          "output_type": "stream",
          "name": "stdout",
          "text": [
            "True\n"
          ]
        }
      ]
    },
    {
      "cell_type": "markdown",
      "source": [
        " Publisth the notebook in as **pperezp_groupN_CubicEquation.ipynb** at **MetNumUN2023II/Lab5** and submit only the code of **solve_cubic(b, c,d)** in UNcode Quiz Cubic Equation."
      ],
      "metadata": {
        "id": "0s01RrfqmE_f"
      }
    }
  ]
}